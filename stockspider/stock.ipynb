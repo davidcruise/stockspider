{
 "cells": [
  {
   "cell_type": "code",
   "execution_count": null,
   "metadata": {},
   "outputs": [],
   "source": [
    "import requests\n",
    "from bs4 import BeautifulSoup\n",
    "import bs4\n",
    "import re\n",
    "\n",
    "eastmoney= 'http://quote.eastmoney.com/stocklist.html'\n",
    "r=requests.get(eastmoney)\n",
    "r.encoding=\"utf-8\"\n",
    "html=r.text\n",
    "soup=BeautifulSoup(html,'html.parser')\n",
    "\n",
    "tlist=soup.html.body.contents[19].find_all('a',target=\"_blank\")\n",
    "\n",
    "slist=[]\n",
    "\n",
    "for a in tlist: \n",
    "    rst=re.search(r's[hz]\\d{6}',a.attrs['href'])\n",
    "    slist.append(rst.group(0))\n",
    "    \n",
    "for stock in slist:\n",
    "    print(stock)\n",
    "    url = 'https://gupiao.baidu.com/stock/' + stock + \".html\"    \n",
    "    r=requests.get(url)\n",
    "    r.encoding=\"utf-8\"\n",
    "    html=r.text\n",
    "    html=(html.replace('市盈率<sup>MRQ</sup>','市盈率')).replace('                        ','').replace('\\n','')\n",
    "    soup=BeautifulSoup(html,'html.parser')\n",
    "\n",
    "\n",
    "    \n",
    "    \n",
    "    t=soup.find('div',class_='stock-bets')\n",
    "    if isinstance(t,bs4.element.Tag):\n",
    "        keylist=[]\n",
    "        for tag in t.find_all('dt'):\n",
    "            keylist.append(tag.string)\n",
    "\n",
    "\n",
    "        valuelist=[]\n",
    "        for tag in t.find_all('dd'):\n",
    "            valuelist.append(tag.string)\n",
    "    \n",
    "        name=soup.find_all(attrs={'class':'bets-name'})[0]\n",
    "        dict={name.text.split()[0]:stock}\n",
    "        for j in range(len(keylist)):\n",
    "            dict[keylist[j]]=valuelist[j]\n",
    "        print(dict)\n"
   ]
  },
  {
   "cell_type": "code",
   "execution_count": null,
   "metadata": {},
   "outputs": [],
   "source": []
  },
  {
   "cell_type": "code",
   "execution_count": null,
   "metadata": {},
   "outputs": [],
   "source": []
  }
 ],
 "metadata": {
  "kernelspec": {
   "display_name": "Python 3",
   "language": "python",
   "name": "python3"
  },
  "language_info": {
   "codemirror_mode": {
    "name": "ipython",
    "version": 3
   },
   "file_extension": ".py",
   "mimetype": "text/x-python",
   "name": "python",
   "nbconvert_exporter": "python",
   "pygments_lexer": "ipython3",
   "version": "3.7.1"
  }
 },
 "nbformat": 4,
 "nbformat_minor": 2
}
