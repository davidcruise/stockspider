{
 "cells": [
  {
   "cell_type": "code",
   "execution_count": null,
   "metadata": {},
   "outputs": [],
   "source": [
    "num = range(6374, 7083) \n",
    "#num[708]\n",
    "for i in num:\n",
    "  "
   ]
  },
  {
   "cell_type": "code",
   "execution_count": 29,
   "metadata": {},
   "outputs": [
    {
     "name": "stdout",
     "output_type": "stream",
     "text": [
      "{'User-agent': 'Mozilla/5.0 (Windows NT 6.3; WOW64) AppleWebKit/537.36 (KHTML, like Gecko) Chrome/39.0.2171.95 Safari/537.36'}\n"
     ]
    }
   ],
   "source": [
    "import random\n",
    "import time\n",
    "t = 1\n",
    "time.sleep(t)\n",
    "# proxy_list = [\n",
    "#     '183.95.80.102:8080',\n",
    "#     '123.160.31.71:8080',\n",
    "#     '115.231.128.79:8080',\n",
    "#     '166.111.77.32:80',\n",
    "#     '43.240.138.31:8080',\n",
    "#     '218.201.98.196:3128'\n",
    "# ]\n",
    " \n",
    "# 收集到的常用Header\n",
    "my_headers = [\n",
    "    \"Mozilla/5.0 (Windows NT 6.3; WOW64) AppleWebKit/537.36 (KHTML, like Gecko) Chrome/39.0.2171.95 Safari/537.36\",\n",
    "    \"Mozilla/5.0 (Macintosh; Intel Mac OS X 10_9_2) AppleWebKit/537.36 (KHTML, like Gecko) Chrome/35.0.1916.153 Safari/537.36\",\n",
    "    \"Mozilla/5.0 (Windows NT 6.1; WOW64; rv:30.0) Gecko/20100101 Firefox/30.0\",\n",
    "    \"Mozilla/5.0 (Macintosh; Intel Mac OS X 10_9_2) AppleWebKit/537.75.14 (KHTML, like Gecko) Version/7.0.3 Safari/537.75.14\",\n",
    "    \"Mozilla/5.0 (compatible; MSIE 10.0; Windows NT 6.2; Win64; x64; Trident/6.0)\",\n",
    "    'Mozilla/5.0 (Windows; U; Windows NT 5.1; it; rv:1.8.1.11) Gecko/20071127 Firefox/2.0.0.11',\n",
    "    'Opera/9.25 (Windows NT 5.1; U; en)',\n",
    "    'Mozilla/4.0 (compatible; MSIE 6.0; Windows NT 5.1; SV1; .NET CLR 1.1.4322; .NET CLR 2.0.50727)',\n",
    "    'Mozilla/5.0 (compatible; Konqueror/3.5; Linux) KHTML/3.5.5 (like Gecko) (Kubuntu)',\n",
    "    'Mozilla/5.0 (X11; U; Linux i686; en-US; rv:1.8.0.12) Gecko/20070731 Ubuntu/dapper-security Firefox/1.5.0.12',\n",
    "    'Lynx/2.8.5rel.1 libwww-FM/2.14 SSL-MM/1.4.1 GNUTLS/1.2.9',\n",
    "    \"Mozilla/5.0 (X11; Linux i686) AppleWebKit/535.7 (KHTML, like Gecko) Ubuntu/11.04 Chromium/16.0.912.77 Chrome/16.0.912.77 Safari/535.7\",\n",
    "    \"Mozilla/5.0 (X11; Ubuntu; Linux i686; rv:10.0) Gecko/20100101 Firefox/10.0 \"\n",
    "]\n",
    "#proxy = random.choice(proxy_list)\n",
    "\n",
    "header={\"User-agent\":random.choice(my_headers)}\n",
    "print(header)\n",
    "\n",
    "#params = {\"m\":'addbrowsnumber', \"id\":'7082'}\n",
    "cookie1 = {\"Cookie\":'JSESSIONID=wKgIBgBQXgcGvpHaxvE2PkjKth-YYuyEpbsA; insert_cookie=96260894; _gscu_1507282980=77341830y18b2d41; _gscbrs_1507282980=1; _Jo0OQK=71319A0A7D5FC1A0D4C0859E91CF47FFB38CC7BA44FCF88B336143071B6DACFBB5B0E57BE70A6BB68D91647A6F03D96AC88DA508A376189427A198A4605E84754BA144A5FBA689A3431553360B77226AD51553360B77226AD51AF2D6B447B42412AF7B52A556F980B21GJ1Z1LA==; _gscs_1507282980=t77518842vsvtzi41|pv:23'}\n",
    "cookie2 = {\"Cookie\":'JSESSIONID=wKgIBgBQXgcGvpHaxvE2PkjKth-YYuyEpbsA; insert_cookie=96260894; _gscu_1507282980=77341830y18b2d41; _gscbrs_1507282980=1; _Jo0OQK=71319A0A7D5FC1A0D4C0859E91CF47FFB38CC7BA44FCF88B336143071B6DACFBB5B0E57BE70A6BB68D91647A6F03D96AC88DA508A376189427A198A4605E84754BA144A5FBA689A3431553360B77226AD51553360B77226AD51AF2D6B447B42412AF7B52A556F980B21GJ1Z1LA==; _gscs_1507282980=t77518842vsvtzi41|pv:24'}"
   ]
  },
  {
   "cell_type": "code",
   "execution_count": 30,
   "metadata": {},
   "outputs": [
    {
     "name": "stdout",
     "output_type": "stream",
     "text": [
      "true\n",
      "2\n",
      "200\n",
      "http://www.ccdi.gov.cn/fgk/law.do?m=addbrowsnumber&id=7082\n",
      "\n"
     ]
    }
   ],
   "source": [
    "import requests\n",
    "\n",
    "#url = 'http://www.ccdi.gov.cn/fgk/index'\n",
    "url1 = 'http://www.ccdi.gov.cn/fgk/law.do?m=isVerify&dateStamp=951'\n",
    "url2 = 'http://www.ccdi.gov.cn/fgk/law.do?m=addbrowsnumber&id=7082'\n",
    "r1 = requests.get(url1, headers=header, cookies=cookie1 )\n",
    "print(r1.text[:1000])\n",
    "if r1.status_code == 200:\n",
    "    print(2)\n",
    "    r2 = requests.get(url2, headers=header, cookies=cookie2 )\n",
    "    print(r2.status_code)\n",
    "    print(r2.url)\n",
    "    r2.encoding = r2.apparent_encoding\n",
    "    print(r2.text[:1000])"
   ]
  },
  {
   "cell_type": "code",
   "execution_count": 21,
   "metadata": {},
   "outputs": [
    {
     "name": "stdout",
     "output_type": "stream",
     "text": [
      "200\n",
      "http://www.ccdi.gov.cn/fgk/law.do?m=isVerify&dateStamp=951&m=addbrowsnumber&id=7082\n"
     ]
    }
   ],
   "source": [
    "\n",
    "\n",
    "#url = 'http://www.ccdi.gov.cn/fgk/index'\n",
    "url = 'http://www.ccdi.gov.cn/fgk/law.do?m=isVerify&dateStamp=951'\n",
    "#url = 'http://www.ccdi.gov.cn/fgk/law_display/7082'\n",
    "#r = requests.get(url, headers=header)\n",
    "r = requests.get(url, headers=header, params=params, cookies=cookie )\n",
    "print(r.status_code)\n",
    "print(r.url)\n",
    "if r.status_code == 200:\n",
    "    "
   ]
  },
  {
   "cell_type": "code",
   "execution_count": 22,
   "metadata": {},
   "outputs": [
    {
     "data": {
      "text/plain": [
       "'true'"
      ]
     },
     "execution_count": 22,
     "metadata": {},
     "output_type": "execute_result"
    }
   ],
   "source": [
    "\n"
   ]
  },
  {
   "cell_type": "code",
   "execution_count": null,
   "metadata": {},
   "outputs": [],
   "source": []
  },
  {
   "cell_type": "code",
   "execution_count": null,
   "metadata": {},
   "outputs": [],
   "source": []
  }
 ],
 "metadata": {
  "kernelspec": {
   "display_name": "Python 3",
   "language": "python",
   "name": "python3"
  },
  "language_info": {
   "codemirror_mode": {
    "name": "ipython",
    "version": 3
   },
   "file_extension": ".py",
   "mimetype": "text/x-python",
   "name": "python",
   "nbconvert_exporter": "python",
   "pygments_lexer": "ipython3",
   "version": "3.7.4"
  }
 },
 "nbformat": 4,
 "nbformat_minor": 4
}
